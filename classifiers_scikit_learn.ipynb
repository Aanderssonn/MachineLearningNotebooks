{
 "cells": [
  {
   "cell_type": "markdown",
   "id": "bottom-diving",
   "metadata": {},
   "source": [
    "# Classifiers Using scikit-learn\n",
    "\n",
    "## The __No Free Lunch Theorom__\n",
    "No single classifier works best across all possible scenarios.\n",
    "\n",
    "Five main steps invovled in training a supervised machine learning algorithm:\n",
    "\n",
    "1) Selecting features and collecting labeled training examples.\n",
    "2) Choosing a performance metric.\n",
    "3) Choosing a classifier and optimization algorithm.\n",
    "4) Evaluating the performance of the model.\n",
    "5) Tuning the algorithm.\n",
    "\n",
    "## The perceptron, using scikit-learn\n",
    "We will train a perceptron model similar to the one I implemented in the previous notebook, but this time we will use the scikit-learn implementation. Once again, we use the iris dataset, wchich can be accessed directly from scikit-learn."
   ]
  },
  {
   "cell_type": "code",
   "execution_count": 8,
   "id": "greenhouse-rebecca",
   "metadata": {},
   "outputs": [
    {
     "name": "stdout",
     "output_type": "stream",
     "text": [
      "Class labels: [0 1 2]\n"
     ]
    }
   ],
   "source": [
    "from sklearn import datasets\n",
    "import numpy as np\n",
    "\n",
    "iris = datasets.load_iris()\n",
    "X = iris.data[:, [2, 3]]\n",
    "y = iris.target\n",
    "\n",
    "# setosa, versicolor and virginica is stored as ints.\n",
    "print(f'Class labels: {np.unique(y)}')\n"
   ]
  },
  {
   "cell_type": "code",
   "execution_count": 16,
   "id": "integrated-digest",
   "metadata": {},
   "outputs": [
    {
     "name": "stdout",
     "output_type": "stream",
     "text": [
      "Labels counts in y: [50 50 50]\n",
      "Labels counts in y_train: [35 35 35]\n",
      "Labels counts in y_test: [15 15 15]\n"
     ]
    }
   ],
   "source": [
    "from sklearn.model_selection import train_test_split\n",
    "\n",
    "X_train, X_test, y_train, y_test = train_test_split(X, y,\n",
    "                                                   test_size = 0.3,\n",
    "                                                   random_state = 1,\n",
    "                                                   stratify = y)\n",
    "\n",
    "# Stratify y, ensures that the test subsets have the same proportions\n",
    "# of class labels as the input dataset. \n",
    "print(f'Labels counts in y: {np.bincount(y)}')\n",
    "print(f'Labels counts in y_train: {np.bincount(y_train)}')\n",
    "print(f'Labels counts in y_test: {np.bincount(y_test)}')\n"
   ]
  },
  {
   "cell_type": "markdown",
   "id": "legitimate-fortune",
   "metadata": {},
   "source": [
    "Note that train_test_split shuffeled the data before splitting. We will start off by standardizing the features."
   ]
  },
  {
   "cell_type": "code",
   "execution_count": 20,
   "id": "talented-poster",
   "metadata": {},
   "outputs": [],
   "source": [
    "from sklearn.preprocessing import StandardScaler\n",
    "sc = StandardScaler()\n",
    "sc.fit(X_train)\n",
    "X_train_std = sc.transform(X_train)\n",
    "X_test_std = sc.transform(X_test)"
   ]
  },
  {
   "cell_type": "markdown",
   "id": "respected-drawing",
   "metadata": {},
   "source": [
    "Let's instanciate a perceptron model and train it, using the standardized features."
   ]
  },
  {
   "cell_type": "code",
   "execution_count": 25,
   "id": "mounted-leonard",
   "metadata": {},
   "outputs": [
    {
     "data": {
      "text/plain": [
       "Perceptron(eta0=0.1, random_state=1)"
      ]
     },
     "execution_count": 25,
     "metadata": {},
     "output_type": "execute_result"
    }
   ],
   "source": [
    "from sklearn.linear_model import Perceptron\n",
    "\n",
    "ppn = Perceptron(eta0 = 0.1, random_state = 1)\n",
    "ppn.fit(X_train_std, y_train)"
   ]
  },
  {
   "cell_type": "code",
   "execution_count": 28,
   "id": "geographic-dallas",
   "metadata": {},
   "outputs": [
    {
     "name": "stdout",
     "output_type": "stream",
     "text": [
      "Missclasified examples 1 / 45\n"
     ]
    }
   ],
   "source": [
    "y_pred = ppn.predict(X_test_std)\n",
    "print(f'Missclasified examples {(y_test != y_pred).sum()} / {len(y_test)}')"
   ]
  },
  {
   "cell_type": "code",
   "execution_count": 33,
   "id": "floppy-roommate",
   "metadata": {},
   "outputs": [
    {
     "name": "stdout",
     "output_type": "stream",
     "text": [
      "Accuracy: 0.9777777777777777 = 0.9777777777777777\n"
     ]
    }
   ],
   "source": [
    "from sklearn.metrics import accuracy_score\n",
    "print(f'Accuracy: {ppn.score(X_test_std, y_test)} = {1 - (1/45)}')"
   ]
  },
  {
   "cell_type": "markdown",
   "id": "defensive-operator",
   "metadata": {},
   "source": [
    "Finally, we will use plot_decision_regions from the previuos notebook."
   ]
  },
  {
   "cell_type": "code",
   "execution_count": 36,
   "id": "excessive-pressing",
   "metadata": {},
   "outputs": [],
   "source": [
    "from matplotlib.colors import ListedColormap\n",
    "import matplotlib.pyplot as plt\n",
    "def plot_decision_regions(X, y, classifier, test_idx=None,\n",
    "                          resolution=0.02):\n",
    "    # setup marker generator and color map\n",
    "    markers = ('s', 'x', 'o', '^', 'v')\n",
    "    colors = ('red', 'blue', 'lightgreen', 'gray', 'cyan')\n",
    "    cmap = ListedColormap(colors[:len(np.unique(y))])\n",
    "    # plot the decision surface\n",
    "    x1_min, x1_max = X[:, 0].min() - 1, X[:, 0].max() + 1\n",
    "    x2_min, x2_max = X[:, 1].min() - 1, X[:, 1].max() + 1\n",
    "    xx1, xx2 = np.meshgrid(np.arange(x1_min, x1_max, resolution),\n",
    "    np.arange(x2_min, x2_max, resolution))\n",
    "    Z = classifier.predict(np.array([xx1.ravel(), xx2.ravel()]).T)\n",
    "    Z = Z.reshape(xx1.shape)\n",
    "    plt.contourf(xx1, xx2, Z, alpha=0.3, cmap=cmap)\n",
    "    plt.xlim(xx1.min(), xx1.max())\n",
    "    plt.ylim(xx2.min(), xx2.max())\n",
    "    \n",
    "    for idx, cl in enumerate(np.unique(y)):\n",
    "        plt.scatter(x=X[y == cl, 0], y=X[y == cl, 1],\n",
    "        alpha=0.8, c=colors[idx],\n",
    "        marker=markers[idx],\n",
    "        edgecolor='black')\n",
    "        \n",
    "     # highlight test examples\n",
    "    if test_idx:\n",
    "        # plot all examples\n",
    "        X_test, y_test = X[test_idx, :], y[test_idx]\n",
    "        plt.scatter(X_test[:, 0], X_test[:, 1],\n",
    "                    c='', edgecolor='black', alpha=1.0,\n",
    "                    linewidth=1, marker='o',\n",
    "                    s=100, label='test set')\n",
    "        "
   ]
  },
  {
   "cell_type": "code",
   "execution_count": 40,
   "id": "indirect-tucson",
   "metadata": {},
   "outputs": [
    {
     "name": "stderr",
     "output_type": "stream",
     "text": [
      "<ipython-input-36-83754f7f4294>:30: MatplotlibDeprecationWarning: Using a string of single character colors as a color sequence is deprecated since 3.2 and will be removed two minor releases later. Use an explicit list instead.\n",
      "  plt.scatter(X_test[:, 0], X_test[:, 1],\n"
     ]
    },
    {
     "data": {
      "image/png": "[encoded data removed]",
      "text/plain": [
       "<Figure size 432x288 with 1 Axes>"
      ]
     },
     "metadata": {
      "needs_background": "light"
     },
     "output_type": "display_data"
    }
   ],
   "source": [
    "X_combined_std = np.vstack((X_train_std, X_test_std))\n",
    "y_combined = np.hstack((y_train, y_test))\n",
    "plot_decision_regions(X = X_combined_std,\n",
    "                      y = y_combined,\n",
    "                      classifier = ppn,\n",
    "                      test_idx = range(105, 150))\n",
    "plt.xlabel('petal length [std]')\n",
    "plt.ylabel('petal width [std]')\n",
    "plt.legend(loc = 'upper left')\n",
    "plt.tight_layout()\n",
    "plt.show()"
   ]
  }
 ],
 "metadata": {
  "kernelspec": {
   "display_name": "Python 3",
   "language": "python",
   "name": "python3"
  },
  "language_info": {
   "codemirror_mode": {
    "name": "ipython",
    "version": 3
   },
   "file_extension": ".py",
   "mimetype": "text/x-python",
   "name": "python",
   "nbconvert_exporter": "python",
   "pygments_lexer": "ipython3",
   "version": "3.8.5"
  }
 },
 "nbformat": 4,
 "nbformat_minor": 5
}
