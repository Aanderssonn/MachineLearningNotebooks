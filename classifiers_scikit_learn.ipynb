{
 "cells": [
  {
   "cell_type": "markdown",
   "id": "running-batch",
   "metadata": {},
   "source": [
    "# Classifiers Using scikit-learn\n",
    "\n",
    "## The __No Free Lunch Theorom__\n",
    "No single classifier works best across all possible scenarios.\n",
    "\n",
    "Five main steps invovled in training a supervised machine learning algorithm:\n",
    "\n",
    "1) Selecting features and collecting labeled training examples.\n",
    "2) Choosing a performance metric.\n",
    "3) Choosing a classifier and optimization algorithm.\n",
    "4) Evaluating the performance of the model.\n",
    "5) Tuning the algorithm.\n",
    "\n",
    "## The perceptron, using scikit-learn\n",
    "We will train a perceptron model similar to the one I implemented in the previous notebook, but this time we will use the scikit-learn implementation. Once again, we use the iris dataset, wchich can be accessed directly from scikit-learn."
   ]
  },
  {
   "cell_type": "code",
   "execution_count": 41,
   "id": "third-render",
   "metadata": {},
   "outputs": [
    {
     "name": "stdout",
     "output_type": "stream",
     "text": [
      "Class labels: [0 1 2]\n"
     ]
    }
   ],
   "source": [
    "from sklearn import datasets\n",
    "import numpy as np\n",
    "\n",
    "iris = datasets.load_iris()\n",
    "X = iris.data[:, [2, 3]]\n",
    "y = iris.target\n",
    "\n",
    "# setosa, versicolor and virginica is stored as ints.\n",
    "print(f'Class labels: {np.unique(y)}')\n"
   ]
  },
  {
   "cell_type": "code",
   "execution_count": 42,
   "id": "sunset-stress",
   "metadata": {},
   "outputs": [
    {
     "name": "stdout",
     "output_type": "stream",
     "text": [
      "Labels counts in y: [50 50 50]\n",
      "Labels counts in y_train: [35 35 35]\n",
      "Labels counts in y_test: [15 15 15]\n"
     ]
    }
   ],
   "source": [
    "from sklearn.model_selection import train_test_split\n",
    "\n",
    "X_train, X_test, y_train, y_test = train_test_split(X, y,\n",
    "                                                   test_size = 0.3,\n",
    "                                                   random_state = 1,\n",
    "                                                   stratify = y)\n",
    "\n",
    "# Stratify y, ensures that the test subsets have the same proportions\n",
    "# of class labels as the input dataset. \n",
    "print(f'Labels counts in y: {np.bincount(y)}')\n",
    "print(f'Labels counts in y_train: {np.bincount(y_train)}')\n",
    "print(f'Labels counts in y_test: {np.bincount(y_test)}')\n"
   ]
  },
  {
   "cell_type": "markdown",
   "id": "loved-ethernet",
   "metadata": {},
   "source": [
    "Note that train_test_split shuffeled the data before splitting. We will start off by standardizing the features."
   ]
  },
  {
   "cell_type": "code",
   "execution_count": 43,
   "id": "generic-holmes",
   "metadata": {},
   "outputs": [],
   "source": [
    "from sklearn.preprocessing import StandardScaler\n",
    "sc = StandardScaler()\n",
    "sc.fit(X_train)\n",
    "X_train_std = sc.transform(X_train)\n",
    "X_test_std = sc.transform(X_test)"
   ]
  },
  {
   "cell_type": "markdown",
   "id": "usual-beijing",
   "metadata": {},
   "source": [
    "Let's instanciate a perceptron model and train it, using the standardized features."
   ]
  },
  {
   "cell_type": "code",
   "execution_count": 44,
   "id": "turkish-trinity",
   "metadata": {},
   "outputs": [
    {
     "data": {
      "text/plain": [
       "Perceptron(eta0=0.1, random_state=1)"
      ]
     },
     "execution_count": 44,
     "metadata": {},
     "output_type": "execute_result"
    }
   ],
   "source": [
    "from sklearn.linear_model import Perceptron\n",
    "\n",
    "ppn = Perceptron(eta0 = 0.1, random_state = 1)\n",
    "ppn.fit(X_train_std, y_train)"
   ]
  },
  {
   "cell_type": "code",
   "execution_count": 45,
   "id": "auburn-douglas",
   "metadata": {},
   "outputs": [
    {
     "name": "stdout",
     "output_type": "stream",
     "text": [
      "Missclasified examples 1 / 45\n"
     ]
    }
   ],
   "source": [
    "y_pred = ppn.predict(X_test_std)\n",
    "print(f'Missclasified examples {(y_test != y_pred).sum()} / {len(y_test)}')"
   ]
  },
  {
   "cell_type": "code",
   "execution_count": 46,
   "id": "approved-communications",
   "metadata": {},
   "outputs": [
    {
     "name": "stdout",
     "output_type": "stream",
     "text": [
      "Accuracy: 0.9777777777777777 = 0.9777777777777777\n"
     ]
    }
   ],
   "source": [
    "from sklearn.metrics import accuracy_score\n",
    "print(f'Accuracy: {ppn.score(X_test_std, y_test)} = {1 - (1/45)}')"
   ]
  },
  {
   "cell_type": "markdown",
   "id": "stone-talent",
   "metadata": {},
   "source": [
    "Finally, we will use plot_decision_regions from the previuos notebook."
   ]
  },
  {
   "cell_type": "code",
   "execution_count": 47,
   "id": "specialized-focus",
   "metadata": {},
   "outputs": [],
   "source": [
    "from matplotlib.colors import ListedColormap\n",
    "import matplotlib.pyplot as plt\n",
    "def plot_decision_regions(X, y, classifier, test_idx=None,\n",
    "                          resolution=0.02):\n",
    "    # setup marker generator and color map\n",
    "    markers = ('s', 'x', 'o', '^', 'v')\n",
    "    colors = ('red', 'blue', 'lightgreen', 'gray', 'cyan')\n",
    "    cmap = ListedColormap(colors[:len(np.unique(y))])\n",
    "    # plot the decision surface\n",
    "    x1_min, x1_max = X[:, 0].min() - 1, X[:, 0].max() + 1\n",
    "    x2_min, x2_max = X[:, 1].min() - 1, X[:, 1].max() + 1\n",
    "    xx1, xx2 = np.meshgrid(np.arange(x1_min, x1_max, resolution),\n",
    "    np.arange(x2_min, x2_max, resolution))\n",
    "    Z = classifier.predict(np.array([xx1.ravel(), xx2.ravel()]).T)\n",
    "    Z = Z.reshape(xx1.shape)\n",
    "    plt.contourf(xx1, xx2, Z, alpha=0.3, cmap=cmap)\n",
    "    plt.xlim(xx1.min(), xx1.max())\n",
    "    plt.ylim(xx2.min(), xx2.max())\n",
    "    \n",
    "    for idx, cl in enumerate(np.unique(y)):\n",
    "        plt.scatter(x=X[y == cl, 0], y=X[y == cl, 1],\n",
    "        alpha=0.8, c=colors[idx],\n",
    "        marker=markers[idx],\n",
    "        edgecolor='black')\n",
    "        \n",
    "     # highlight test examples\n",
    "    if test_idx:\n",
    "        # plot all examples\n",
    "        X_test, y_test = X[test_idx, :], y[test_idx]\n",
    "        plt.scatter(X_test[:, 0], X_test[:, 1],\n",
    "                    c='', edgecolor='black', alpha=1.0,\n",
    "                    linewidth=1, marker='o',\n",
    "                    s=100, label='test set')\n",
    "        "
   ]
  },
  {
   "cell_type": "code",
   "execution_count": 60,
   "id": "elect-happiness",
   "metadata": {},
   "outputs": [
    {
     "name": "stderr",
     "output_type": "stream",
     "text": [
      "<ipython-input-47-83754f7f4294>:30: MatplotlibDeprecationWarning: Using a string of single character colors as a color sequence is deprecated since 3.2 and will be removed two minor releases later. Use an explicit list instead.\n",
      "  plt.scatter(X_test[:, 0], X_test[:, 1],\n"
     ]
    },
    {
     "data": {
      "image/png": "[encoded data removed]",
      "text/plain": [
       "<Figure size 432x288 with 1 Axes>"
      ]
     },
     "metadata": {
      "needs_background": "light"
     },
     "output_type": "display_data"
    }
   ],
   "source": [
    "X_combined_std = np.vstack((X_train_std, X_test_std))\n",
    "y_combined = np.hstack((y_train, y_test))\n",
    "plot_decision_regions(X = X_combined_std,\n",
    "                      y = y_combined,\n",
    "                      classifier = ppn,\n",
    "                      test_idx = range(105, 150))\n",
    "plt.xlabel('petal length [std]')\n",
    "plt.ylabel('petal width [std]')\n",
    "plt.legend(loc = 'upper left')\n",
    "plt.tight_layout()\n",
    "plt.show()"
   ]
  },
  {
   "cell_type": "markdown",
   "id": "grave-chancellor",
   "metadata": {},
   "source": [
    "## Logistic Regression\n",
    "\n",
    "The perceptron never gonverge if the classes har not linearly seperable. The above plot shows a scenario where the classes _cannot_ be separated linearly, hence the Perceptron will _never_ converge. \n",
    "\n",
    "To solve this issue we will now investigate __logistic regression__. Note that logistic regression is a model for classification, and not regression. Just as the perceptron and Adaline, logistic regression is a _linear model_ for binary classification but it performs very well on linearly seperable classes.\n",
    "\n",
    "To understand logistic regression, we need to introduce the concept of __ods__. Logistic regression is a probabilistic model for binary classification, where the ods of a particular event with the positive probability (e.g. class label y=1 etc) $p$ can be written as:\n",
    "\n",
    "$$ \\frac{p}{1 - p}$$\n",
    "\n",
    "Further, we define the _logit_ function, or the _log-odds_ as:\n",
    "\n",
    "$$ logit(p) = log \\frac{p}{(1 - p)} ,$$\n",
    "\n",
    "where $log$ is the _natural_ logarithm. Note that \n",
    "\n",
    "$$ D_{logit(p)} \\in [0,\\; 1],$$\n",
    "\n",
    "while\n",
    "\n",
    "$$ V_{logit(p)} \\in \\mathbb{R} $$.\n",
    "\n",
    "\n",
    "\n",
    "This enables us to express a linear relationship between feature values and the log-odds:\n",
    "\n",
    "$$ logit(p(y = 1|x)) = \\vec{w}^{T} \\vec{x} $$.\n",
    "\n",
    "The probability that an example belongs to a perticular class is the inverse form of the logit function, which is known as the __logistic sigmoid function__, or often just the __sigmoid function__:\n",
    "\n",
    "$$ \\phi (z) = \\frac{1}{1 + e^{-z}},$$\n",
    "\n",
    "where $z$ is the net input.\n"
   ]
  },
  {
   "cell_type": "code",
   "execution_count": 63,
   "id": "embedded-hydrogen",
   "metadata": {},
   "outputs": [
    {
     "data": {
      "image/png": "[encoded data removed]",
      "text/plain": [
       "<Figure size 432x288 with 1 Axes>"
      ]
     },
     "metadata": {
      "needs_background": "light"
     },
     "output_type": "display_data"
    }
   ],
   "source": [
    "import matplotlib.pyplot as plt\n",
    "import numpy as np\n",
    "\n",
    "def sigmoid(z):\n",
    "    return 1/(1 + np.exp(-z))\n",
    "\n",
    "z = np.arange(-7, 7, 0.1)\n",
    "phi_z = sigmoid(z)\n",
    "plt.plot(z, phi_z)\n",
    "plt.axvline(0, color='k')\n",
    "plt.ylim(-0.1, 1.1)\n",
    "plt.xlabel('z')\n",
    "plt.ylabel('$\\phi (z)$')\n",
    "plt.yticks([0.0, 0.5, 1.0])\n",
    "ax = plt.gca()\n",
    "ax.yaxis.grid(True)\n",
    "plt.tight_layout()\n",
    "plt.show()\n",
    "\n"
   ]
  },
  {
   "cell_type": "markdown",
   "id": "spare-organic",
   "metadata": {},
   "source": [
    "We can now easily build the forward pass of a logistic regression model, by using a model similar to Adaline, but where the activation function is the sigmoid. Our threshold function can then map values > 0.5 as class 1 and values < 0.5 as class 0. This is natural, since the output from the sigmoid function is the probability that that particular example has class 1. "
   ]
  }
 ],
 "metadata": {
  "kernelspec": {
   "display_name": "Python 3",
   "language": "python",
   "name": "python3"
  },
  "language_info": {
   "codemirror_mode": {
    "name": "ipython",
    "version": 3
   },
   "file_extension": ".py",
   "mimetype": "text/x-python",
   "name": "python",
   "nbconvert_exporter": "python",
   "pygments_lexer": "ipython3",
   "version": "3.8.5"
  }
 },
 "nbformat": 4,
 "nbformat_minor": 5
}
