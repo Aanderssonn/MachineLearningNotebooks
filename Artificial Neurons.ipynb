{
 "cells": [
  {
   "cell_type": "markdown",
   "id": "valued-affect",
   "metadata": {},
   "source": [
    "# Artificial Neurons\n",
    "\n",
    "In this notebook, I implement a __Perception__ learning algorithm and discuss its limitations. As a natural extension I implement __Adaptive Linear Neurons__ and __Stochastic Gradient Descent__.\n",
    "\n",
    "## Packages\n",
    "I built object oriented API:s using numpy. For visualizations I used matplotlib for visualizations and pandas to preprocess the data (iris set)."
   ]
  },
  {
   "cell_type": "code",
   "execution_count": 2,
   "id": "endless-major",
   "metadata": {},
   "outputs": [],
   "source": [
    "import numpy as np\n",
    "import matplotlib.pyplot as plt\n",
    "import pandas as pd"
   ]
  },
  {
   "cell_type": "markdown",
   "id": "greek-victorian",
   "metadata": {},
   "source": [
    "## Artificial Neurons and Binary Classification\n",
    "\n",
    "The net input (z) is a linear combination of inputs ($\\vec{x}$) and weights ($\\vec{w}$):\n",
    "\n",
    "$$ z = w_1 x_1 + ... + w_m x_m = \\vec{w}^{T} \\vec{x}. $$\n",
    "\n",
    "\n",
    "\n",
    "If the input of an example, $\\vec{x}^{(i)}$, is greater than a defined threshold $\\theta$, we predict class 1 and otherwise we predict class -1. This can be implemented using a variant of the unit step function:\n",
    "\n",
    "$$ \\phi (z) = \\begin{cases}\n",
    "1 \\; if \\; z \\geq \\theta\\\\\n",
    "-1 \\; otherwise\n",
    "\\end{cases}$$\n",
    "\n",
    "The negative threshold is usually called *bias unit* and is denoted:\n",
    "\n",
    "$$ w_0 = - \\theta$$\n",
    "\n",
    "## The Update Rule\n",
    "1. Initialize the weights to 0 or small random numbers\n",
    "\n",
    "2. For each training exmaple $\\vec{x}^{(i)}$:\n",
    "\n",
    "    a) Compute the output value $\\vec{\\hat{y}}$.\n",
    "    \n",
    "    b) Update the weights.\n",
    "\n",
    "The simeltaneous update of each compnent in the weight vector can be written as:\n",
    "\n",
    "$$ w_j := w_j + \\Delta w_j$$\n",
    "\n",
    "where:\n",
    "\n",
    "$$ \\Delta w_j = \\eta \\; ( \\vec{y}^{(i)} - \\vec{\\hat{y}}^{(i)} ) \\; x_{j}^{(i)} $$\n",
    "\n",
    "Here, $\\eta$ is the _learning rate_, where usually:\n",
    "\n",
    "$$ 0 \\leq \\eta \\leq 1.$$\n"
   ]
  },
  {
   "cell_type": "markdown",
   "id": "bizarre-hands",
   "metadata": {},
   "source": [
    "## Object Oriented Implementation in Python"
   ]
  },
  {
   "cell_type": "code",
   "execution_count": 3,
   "id": "maritime-entry",
   "metadata": {},
   "outputs": [],
   "source": [
    "\n",
    "class Perceptron(object):\n",
    "    def __init__(self, eta = 0.01, n_iter = 50, random_state = 1):\n",
    "        self.eta = eta\n",
    "        self.n_iter = n_iter\n",
    "        self.random_state = random_state\n",
    "        \n",
    "    def fit(self, X, y):\n",
    "        \n",
    "        # Initialize weights to a m+1 dimensional vector, where\n",
    "        # m is the number of dimensions in the dataset. The\n",
    "        # extra element is for the bias unit. \n",
    "        \n",
    "        rgen = np.random.RandomState(self.random_state)\n",
    "        self.w_ = rgen.normal(loc=0.0, scale=0.01,\n",
    "                              size=1 + X.shape[1])\n",
    "        self.errors_ = []\n",
    "        \n",
    "        for _ in range(self.n_iter):\n",
    "            errors = 0\n",
    "            for xi, target in zip(X, y):\n",
    "                update = self.eta * (target - self.predict(xi)) \n",
    "                self.w_[1:] += update * xi\n",
    "                self.w_[0] += update\n",
    "                errors += int(update != 0.0)\n",
    "            self.errors_.append(errors)\n",
    "        return self\n",
    "    \n",
    "    def net_input(self, X):\n",
    "        return np.dot(X, self.w_[1:]) + self.w_[0]\n",
    "    \n",
    "    def predict(self, X):\n",
    "        return np.where(self.net_input(X) >= 0.0, 1, -1)"
   ]
  },
  {
   "cell_type": "markdown",
   "id": "demanding-violin",
   "metadata": {},
   "source": [
    "### Testing the perceptron class on the Iris dataset\n",
    "\n",
    "We will extract the 50 first Iris-versicolor and the 50 first Iris-setosa. "
   ]
  },
  {
   "cell_type": "code",
   "execution_count": 4,
   "id": "reliable-cylinder",
   "metadata": {},
   "outputs": [
    {
     "data": {
      "text/html": [
       "<div>\n",
       "<style scoped>\n",
       "    .dataframe tbody tr th:only-of-type {\n",
       "        vertical-align: middle;\n",
       "    }\n",
       "\n",
       "    .dataframe tbody tr th {\n",
       "        vertical-align: top;\n",
       "    }\n",
       "\n",
       "    .dataframe thead th {\n",
       "        text-align: right;\n",
       "    }\n",
       "</style>\n",
       "<table border=\"1\" class=\"dataframe\">\n",
       "  <thead>\n",
       "    <tr style=\"text-align: right;\">\n",
       "      <th></th>\n",
       "      <th>0</th>\n",
       "      <th>1</th>\n",
       "      <th>2</th>\n",
       "      <th>3</th>\n",
       "      <th>4</th>\n",
       "    </tr>\n",
       "  </thead>\n",
       "  <tbody>\n",
       "    <tr>\n",
       "      <th>0</th>\n",
       "      <td>5.1</td>\n",
       "      <td>3.5</td>\n",
       "      <td>1.4</td>\n",
       "      <td>0.2</td>\n",
       "      <td>Iris-setosa</td>\n",
       "    </tr>\n",
       "    <tr>\n",
       "      <th>1</th>\n",
       "      <td>4.9</td>\n",
       "      <td>3.0</td>\n",
       "      <td>1.4</td>\n",
       "      <td>0.2</td>\n",
       "      <td>Iris-setosa</td>\n",
       "    </tr>\n",
       "    <tr>\n",
       "      <th>2</th>\n",
       "      <td>4.7</td>\n",
       "      <td>3.2</td>\n",
       "      <td>1.3</td>\n",
       "      <td>0.2</td>\n",
       "      <td>Iris-setosa</td>\n",
       "    </tr>\n",
       "    <tr>\n",
       "      <th>3</th>\n",
       "      <td>4.6</td>\n",
       "      <td>3.1</td>\n",
       "      <td>1.5</td>\n",
       "      <td>0.2</td>\n",
       "      <td>Iris-setosa</td>\n",
       "    </tr>\n",
       "    <tr>\n",
       "      <th>4</th>\n",
       "      <td>5.0</td>\n",
       "      <td>3.6</td>\n",
       "      <td>1.4</td>\n",
       "      <td>0.2</td>\n",
       "      <td>Iris-setosa</td>\n",
       "    </tr>\n",
       "  </tbody>\n",
       "</table>\n",
       "</div>"
      ],
      "text/plain": [
       "     0    1    2    3            4\n",
       "0  5.1  3.5  1.4  0.2  Iris-setosa\n",
       "1  4.9  3.0  1.4  0.2  Iris-setosa\n",
       "2  4.7  3.2  1.3  0.2  Iris-setosa\n",
       "3  4.6  3.1  1.5  0.2  Iris-setosa\n",
       "4  5.0  3.6  1.4  0.2  Iris-setosa"
      ]
     },
     "execution_count": 4,
     "metadata": {},
     "output_type": "execute_result"
    }
   ],
   "source": [
    "import os\n",
    "import pandas as pd\n",
    "s = os.path.join('https://archive.ics.uci.edu', 'ml',\n",
    "                 'machine-learning-databases',\n",
    "                 'iris','iris.data')\n",
    "\n",
    "df = pd.read_csv(s,\n",
    "                header=None,\n",
    "                encoding='utf-8')\n",
    "\n",
    "df.head()\n",
    "\n"
   ]
  },
  {
   "cell_type": "code",
   "execution_count": 5,
   "id": "spectacular-pasta",
   "metadata": {},
   "outputs": [
    {
     "data": {
      "text/plain": [
       "<matplotlib.legend.Legend at 0x7f84b9cf7550>"
      ]
     },
     "execution_count": 5,
     "metadata": {},
     "output_type": "execute_result"
    },
    {
     "data": {
      "image/png": "[encoded data removed]",
      "text/plain": [
       "<Figure size 432x288 with 1 Axes>"
      ]
     },
     "metadata": {
      "needs_background": "light"
     },
     "output_type": "display_data"
    }
   ],
   "source": [
    "# Select versicolor and setosa\n",
    "# We only want the values (no axes labels)\n",
    "y = df.iloc[0:100, 4].values\n",
    "y = np.where(y == 'Iris-setosa', -1, 1)\n",
    "\n",
    "# extract sepal length and petal lengthm which\n",
    "# is column 0 na d2 in the dataframe. \n",
    "X = df.iloc[0:100, [0, 2]].values\n",
    "\n",
    "# plot data\n",
    "plt.scatter(X[:50, 0], X[:50, 1],\n",
    "           color='red', marker='o', label='setosa')\n",
    "\n",
    "plt.scatter(X[50:100, 0], X[50:100, 1],\n",
    "           color='blue', marker='x', label='versicolor')\n",
    "\n",
    "plt.xlabel('sepal length [cm]')\n",
    "plt.ylabel('petal length [cm]')\n",
    "plt.legend(loc='upper left')"
   ]
  },
  {
   "cell_type": "markdown",
   "id": "identical-order",
   "metadata": {},
   "source": [
    "### Train the perceptron algorithm on the dataset"
   ]
  },
  {
   "cell_type": "code",
   "execution_count": 6,
   "id": "adjacent-updating",
   "metadata": {},
   "outputs": [
    {
     "data": {
      "image/png": "[encoded data removed]",
      "text/plain": [
       "<Figure size 432x288 with 1 Axes>"
      ]
     },
     "metadata": {
      "needs_background": "light"
     },
     "output_type": "display_data"
    }
   ],
   "source": [
    "# Cerate instance of the perfeptron\n",
    "\n",
    "ppn = Perceptron(eta=0.1, n_iter=10)\n",
    "ppn.fit(X, y)\n",
    "\n",
    "plt.plot(range(1, len(ppn.errors_) + 1),\n",
    "         ppn.errors_, marker='o')\n",
    "\n",
    "plt.xlabel('Epochs')\n",
    "plt.ylabel('Number of updates')\n",
    "plt.show()\n"
   ]
  },
  {
   "cell_type": "markdown",
   "id": "personalized-miniature",
   "metadata": {},
   "source": [
    "### Training result\n",
    "We see that the perceptron converged after the 6:th epoch."
   ]
  },
  {
   "cell_type": "code",
   "execution_count": 7,
   "id": "previous-history",
   "metadata": {},
   "outputs": [],
   "source": [
    "from matplotlib.colors import ListedColormap\n",
    "\n",
    "def plot_decision_regions(X, y, classifier, resolution = 0.02):\n",
    "    \n",
    "    markers = ('s', 'x', 'o', '^', 'v')\n",
    "    colors = ('red', 'blue', 'lightgreen', 'gray', 'cyan')\n",
    "    cmap = ListedColormap(colors[:len(np.unique(y))])\n",
    "    \n",
    "    # The decision surface\n",
    "    x1_min, x1_max = X[:, 0].min() - 1, X[:, 0].max() + 1\n",
    "    x2_min, x2_max = X[:, 1].min() - 1, X[:, 1].max() + 1\n",
    "    xx1, xx2 = np.meshgrid(np.arange(x1_min, x1_max, resolution),\n",
    "                          np.arange(x2_min, x2_max, resolution))\n",
    "    Z = classifier.predict(np.array([xx1.ravel(), xx2.ravel()]).T)\n",
    "    Z = Z.reshape(xx1.shape)\n",
    "    plt.contourf(xx1, xx2, Z, alpha=0.3, cmap=cmap)\n",
    "    plt.xlim(xx1.min(), xx1.max())\n",
    "    plt.ylim(xx2.min(), xx2.max())\n",
    "    \n",
    "    for idx, cl in enumerate(np.unique(y)):\n",
    "        plt.scatter(x=X[y == cl, 0],\n",
    "                    y=X[y == cl, 1],\n",
    "                    alpha=0.8,\n",
    "                    c=colors[idx],\n",
    "                    marker=markers[idx],\n",
    "                    label=cl,\n",
    "                    edgecolor='black')\n",
    "    "
   ]
  },
  {
   "cell_type": "code",
   "execution_count": 8,
   "id": "jewish-memphis",
   "metadata": {},
   "outputs": [
    {
     "data": {
      "text/plain": [
       "<matplotlib.legend.Legend at 0x7f84b9ba7c40>"
      ]
     },
     "execution_count": 8,
     "metadata": {},
     "output_type": "execute_result"
    },
    {
     "data": {
      "image/png": "[encoded data removed]",
      "text/plain": [
       "<Figure size 432x288 with 1 Axes>"
      ]
     },
     "metadata": {
      "needs_background": "light"
     },
     "output_type": "display_data"
    }
   ],
   "source": [
    "plot_decision_regions(X, y, classifier=ppn)\n",
    "plt.xlabel('sepal length [cm]')\n",
    "plt.ylabel('petal length [cm]')\n",
    "plt.legend(loc = 'upper left')"
   ]
  },
  {
   "cell_type": "markdown",
   "id": "divided-edwards",
   "metadata": {},
   "source": [
    "### Convergence\n",
    "\n",
    "As seen in the plot, the perceptron converged perfectly. However, the perceptron learning rule can **only** converge if the two calsses can be separated by a **linear hyperplane**. Thus, convergence is one of the main problems with perceptrons."
   ]
  },
  {
   "cell_type": "markdown",
   "id": "pressing-desert",
   "metadata": {},
   "source": [
    "# Adaptive linear neurons (Adaline)\n",
    "\n",
    "The Adaline algorithm illustrates the key concepts of defining and _minimizing continuous cost functions_. \n",
    "\n",
    "The main difference between the _Adaline rule_ and the perception rule is that the weights are updated based on a _linear activation function_ rather than a unit step function. \n",
    "\n",
    "In Adaline, the activation function is simply the identity:\n",
    "\n",
    "$$ \\phi(\\vec{w}^{T} \\vec{x}) = \\vec{w}^{T} \\vec{x} .$$\n",
    "\n",
    "The Adaline algorithm uses the linear activation function for optimizing the weights and a _threshold function_ (similar to the unit step function) to make the final predictions. This means thet Adeline compares the continuous valued output with the calsslabels during training, rather than the final predictions.  "
   ]
  },
  {
   "cell_type": "markdown",
   "id": "occupied-marine",
   "metadata": {},
   "source": [
    "## Minimizing the cost functions with __gradient descent__\n",
    "\n",
    "The _objective function_ is to be optimized during the learning process. Usually, the objective funciton is a cost function that we want to minimize. In Adaline, we define the cost function $J$:\n",
    "\n",
    "$$ J(w) = \\frac{1}{2} \\sum_{i} ( y^{(i)} - \\phi(z^{(i)})^{2}$$\n",
    "\n",
    "Note that $J(w)$ is a _differentiable_ function and that the term $\\frac{1}{2}$ makes for a more simple gradient of the expression without changing the optimal weight vector. Note also that $J$ is a _convex_, meaning that _gradient descent_ will work in order the minimize the cost function. "
   ]
  },
  {
   "cell_type": "markdown",
   "id": "deadly-friday",
   "metadata": {},
   "source": [
    "# Gradient descent\n",
    "\n",
    "In the gradient descent algorithm, we \"climb down the hill\" by taking steps in the direction of the _negative gradient_ on the cost function:\n",
    "\n",
    "$$ \\vec{w} := \\vec{w} + \\Delta\\vec{w}$$\n",
    "\n",
    "Here we define the weight change according to:\n",
    "\n",
    "$$ \\Delta w = - \\eta \\nabla J(\\vec{w})$$\n",
    "\n",
    "The gradient is simply the partial derivative with respect to each weight, $w_j$:\n",
    "\n",
    "$$ \\frac{\\partial J}{\\partial w_j} =  - \\sum_{i} \\left( y^{(i)} - \\phi ( z^{(i)}) \\right) x_{j}^{(i)}$$\n",
    "\n",
    "Thus finally:\n",
    "\n",
    "$$ \\Delta w_j =  \\eta \\sum_{i} \\left( y^{(i)} - \\phi ( z^{(i)}) \\right) x_{j}^{(i)}$$\n",
    "\n",
    "Note that $\\phi ( z^{(i)} )$ is a _real_ number and not an integer class label. Alse note that the weight update is based on all examples in the training set, which is why this algirithm is known as __batch gradient descent__."
   ]
  },
  {
   "cell_type": "code",
   "execution_count": 9,
   "id": "straight-candy",
   "metadata": {},
   "outputs": [],
   "source": [
    "class AdalineGD(object):\n",
    "    def __init__(self, eta = 0.01, n_iter = 50, random_state = 1):\n",
    "        self.eta = eta\n",
    "        self.n_iter = n_iter\n",
    "        self.random_state = random_state\n",
    "        \n",
    "    def fit(self, X, y):\n",
    "        rgen = np.random.RandomState(self.random_state)\n",
    "        self.w_ = rgen.normal(loc = 0.0, scale = 0.01,\n",
    "                              size = 1 + X.shape[1])\n",
    "        self.cost_ = []\n",
    "        \n",
    "        for i in range(self.n_iter):\n",
    "            net_input = self.net_input(X)\n",
    "            output = self.activation(net_input)\n",
    "            errors = (y - output)\n",
    "            # The gradients for all weights\n",
    "            self.w_[1:] += self.eta * X.T.dot(errors)\n",
    "            self.w_[0] += self.eta * errors.sum()\n",
    "            cost = (errors**2).sum() / 2\n",
    "            self.cost_.append(cost)\n",
    "            \n",
    "        return self\n",
    "            \n",
    "    \n",
    "    def net_input(self, X):\n",
    "        return np.dot(X, self.w_[1:]) + self.w_[0]\n",
    "    \n",
    "    def activation(self, X):\n",
    "        # The activation function is the identity in ADALINE.\n",
    "        return X\n",
    "    \n",
    "    def predict(self, X):\n",
    "        return np.where(self.activation(self.net_input(X)) >= 0.0, 1, -1)\n",
    "    "
   ]
  },
  {
   "cell_type": "markdown",
   "id": "documentary-recall",
   "metadata": {},
   "source": [
    "## Test\n",
    "\n",
    "Let's plot how the number of epochs differ for two different learning rates: $0.01$ and $0.0001$. "
   ]
  },
  {
   "cell_type": "code",
   "execution_count": 10,
   "id": "important-minutes",
   "metadata": {},
   "outputs": [
    {
     "data": {
      "text/plain": [
       "Text(0.5, 1.0, 'Adaline - Learning rate 0.0001')"
      ]
     },
     "execution_count": 10,
     "metadata": {},
     "output_type": "execute_result"
    },
    {
     "data": {
      "image/png": "[encoded data removed]",
      "text/plain": [
       "<Figure size 720x288 with 2 Axes>"
      ]
     },
     "metadata": {
      "needs_background": "light"
     },
     "output_type": "display_data"
    }
   ],
   "source": [
    "ada1 = AdalineGD(n_iter = 10, eta = 0.01).fit(X, y)\n",
    "ada2 = AdalineGD(n_iter = 10, eta = 0.0001).fit(X, y)\n",
    "\n",
    "\n",
    "# Set up two plots.\n",
    "fig, ax = plt.subplots(nrows = 1, ncols = 2, figsize = (10, 4))\n",
    "\n",
    "# Left subplot with learning rate of 0.01.\n",
    "ax[0].plot(range(1, len(ada1.cost_) + 1),\n",
    "           np.log10(ada1.cost_), marker = 'o')\n",
    "ax[0].set_xlabel('Epochs')\n",
    "ax[0].set_ylabel('log(SSE)')\n",
    "ax[0].set_title('Adaline - Learning rate 0.01')\n",
    "\n",
    "# Right subplot with learning rate of 0.0001\n",
    "ax[1].plot(range(1, len(ada2.cost_) + 1),\n",
    "           np.log10(ada2.cost_), marker = 'o')\n",
    "ax[1].set_xlabel('Epochs')\n",
    "ax[1].set_ylabel('log(SSE)')\n",
    "ax[1].set_title('Adaline - Learning rate 0.0001')\n"
   ]
  },
  {
   "cell_type": "markdown",
   "id": "internal-allowance",
   "metadata": {},
   "source": [
    "## The issue of bad learning rates\n",
    "\n",
    "The left plot shows what happend if the learning rate is too big. The error becomes larger as we _overshoot_ the global minimum of the cost function. The right plot instead actually shows decreasing error, but it never converges to the global minimum. This is a sign that we probably set a too small learning rate.\n",
    "\n",
    "By experimenting, I found that $\\eta = 0.000518$ seems to give a nice convergence."
   ]
  },
  {
   "cell_type": "code",
   "execution_count": 11,
   "id": "chief-brick",
   "metadata": {},
   "outputs": [
    {
     "data": {
      "text/plain": [
       "Text(0.5, 1.0, 'Adaline - Learning rate 0.001')"
      ]
     },
     "execution_count": 11,
     "metadata": {},
     "output_type": "execute_result"
    },
    {
     "data": {
      "image/png": "[encoded data removed]",
      "text/plain": [
       "<Figure size 432x288 with 1 Axes>"
      ]
     },
     "metadata": {
      "needs_background": "light"
     },
     "output_type": "display_data"
    }
   ],
   "source": [
    "ada = AdalineGD(n_iter = 10, eta = 0.000518).fit(X, y)\n",
    "\n",
    "\n",
    "# Set up two plots.\n",
    "fig, ax = plt.subplots(nrows = 1, ncols = 1)\n",
    "\n",
    "# Left subplot with learning rate of 0.01.\n",
    "ax.plot(range(1, len(ada.cost_) + 1),\n",
    "           np.log10(ada.cost_), marker = 'o')\n",
    "ax.set_xlabel('Epochs')\n",
    "ax.set_ylabel('log(SSE)')\n",
    "ax.set_title('Adaline - Learning rate 0.001')"
   ]
  },
  {
   "cell_type": "markdown",
   "id": "nonprofit-omaha",
   "metadata": {},
   "source": [
    "## Feature Scaling\n",
    "\n",
    "Grandient descent is one of many machine learning algorithms that benefit from __feature scaling__. We will now implement _standardization_ to help Adaline converge more quickly. Standardization means that the dataset will become _normally distributed_, that is, zero mean and unit variance (or $\\sigma = 1$).\n",
    "\n",
    "We can standardize the $j:th$ feature by subtracting each example of the feature with the sample mean and dividing by the standard deviation:\n",
    "\n",
    "$$ \\vec{x}_{j}^{\\prime} = \\frac{\\vec{x}_j - \\vec{\\mu}_j}{\\sigma_j} $$"
   ]
  },
  {
   "cell_type": "code",
   "execution_count": 12,
   "id": "upset-concentrate",
   "metadata": {},
   "outputs": [
    {
     "data": {
      "image/png": "[encoded data removed]",
      "text/plain": [
       "<Figure size 432x288 with 1 Axes>"
      ]
     },
     "metadata": {
      "needs_background": "light"
     },
     "output_type": "display_data"
    }
   ],
   "source": [
    "# Normalize the data\n",
    "\n",
    "X_std = np.copy(X)\n",
    "\n",
    "# Standardize both features separately\n",
    "X_std[:, 0] = (X[:, 0] - X[:, 0].mean()) / X[:, 0].std()\n",
    "X_std[:, 1] = (X[:, 1] - X[:, 1].mean()) / X[:, 1].std()\n",
    "\n",
    "ada_gd = AdalineGD(n_iter = 15, eta = 0.01)\n",
    "ada_gd.fit(X_std, y)\n",
    "\n",
    "plot_decision_regions(X_std, y, classifier = ada_gd)\n",
    "plt.title('Adaline - Gradient Descent')\n",
    "plt.xlabel('sepal length [standardized]')\n",
    "plt.ylabel('petal length [standardized]')\n",
    "plt.legend(loc = 'upper left')\n",
    "plt.tight_layout()"
   ]
  },
  {
   "cell_type": "code",
   "execution_count": 13,
   "id": "naval-brand",
   "metadata": {},
   "outputs": [
    {
     "data": {
      "image/png": "[encoded data removed]",
      "text/plain": [
       "<Figure size 432x288 with 1 Axes>"
      ]
     },
     "metadata": {
      "needs_background": "light"
     },
     "output_type": "display_data"
    }
   ],
   "source": [
    "plt.plot(range(1, len(ada_gd.cost_) + 1),\n",
    "         ada_gd.cost_, marker = 'o')\n",
    "plt.xlabel('Epochs')\n",
    "plt.ylabel('SSE')\n",
    "plt.tight_layout()"
   ]
  },
  {
   "cell_type": "markdown",
   "id": "active-drawing",
   "metadata": {},
   "source": [
    "## Stochastic Gradient Descent\n",
    "\n",
    "In large-scale machine learning applications it is not uncommon for a dataset to contain millions of data points. It would then become too computationally heavy to calculate the gradient of each step using the _entire batch_. \n",
    "\n",
    "Using a techinque known as __stochastic gradient descent (SGD)__ (sometimes called iterative or online gradient descent) we can _approximate_ the gradients by updating the weights incrementally for each training example:\n",
    "\n",
    "$$ \\eta \\left( y^{(i)} - \\phi ( z^{(i)}) \\right) x_{j}^{(i)}. $$\n",
    "\n",
    "This will often help the algorithm to converge faster than the ordinary gradient descent.\n",
    "\n",
    "To obtain good results using SGD it is important to present training data in a random order. We also want to shuffle the training dataset for every epoch to avoid cycles. One trick to enable further annealning to the cost minimum is to implement an _adaptive_ learning rate that decreases over time. \n",
    "\n",
    "Beyond faster convergence, another advantage with SGD is that it can be used for _online learning_. This is useful when new data is accumulating over time, since we can update our machine learning model continuously. One example of this is customer data in a web application. IF storage space is an issue, we can disregard data after the model has been updated. "
   ]
  }
 ],
 "metadata": {
  "kernelspec": {
   "display_name": "Python 3",
   "language": "python",
   "name": "python3"
  },
  "language_info": {
   "codemirror_mode": {
    "name": "ipython",
    "version": 3
   },
   "file_extension": ".py",
   "mimetype": "text/x-python",
   "name": "python",
   "nbconvert_exporter": "python",
   "pygments_lexer": "ipython3",
   "version": "3.8.5"
  }
 },
 "nbformat": 4,
 "nbformat_minor": 5
}
